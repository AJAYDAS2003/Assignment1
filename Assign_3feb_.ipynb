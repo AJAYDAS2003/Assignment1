{
 "cells": [
  {
   "cell_type": "code",
   "execution_count": 89,
   "id": "373565f6-127c-4684-920a-1f5e72b5bc76",
   "metadata": {},
   "outputs": [
    {
     "name": "stdout",
     "output_type": "stream",
     "text": [
      "[1, 3, 5, 7, 9, 11, 13, 15, 17, 19, 21, 23, 25]\n"
     ]
    }
   ],
   "source": [
    "#Question1\n",
    "\"\"\" 'def' keyword is used to define a function in python \"\"\"\n",
    "def odd_num():\n",
    "    l1=[]\n",
    "    for i in range (1,26):\n",
    "        if(i%2!=0):\n",
    "            l1.append(i)\n",
    "    return l1\n",
    "print(odd_num())"
   ]
  },
  {
   "cell_type": "code",
   "execution_count": 90,
   "id": "81e37d52-acda-4e3c-9082-bdbf2155dab4",
   "metadata": {},
   "outputs": [
    {
     "name": "stdout",
     "output_type": "stream",
     "text": [
      "[45, 23, 21, 45, 43]\n",
      "\n",
      "\n",
      "a==12\n",
      "b==45\n",
      "c==23\n",
      "d==21\n",
      "e==22\n",
      "f==45\n",
      "g==43\n",
      "h==44\n"
     ]
    }
   ],
   "source": [
    "#Question2\n",
    "\"\"\"We use *args and **kwargs, when we are not aware about the number of argument we are going to pass to the function\"\"\"\n",
    "\n",
    "''' Use of *args '''\n",
    "def list_odd(*args):\n",
    "    l1=[]\n",
    "    for i in args:\n",
    "        if i%2!=0:\n",
    "            l1.append(i)\n",
    "    return l1\n",
    "print(list_odd(12,45,23,21,22,45,43,44))\n",
    "print()\n",
    "print()\n",
    "\n",
    "''' Use of **kargs '''\n",
    "def display(**kargs):\n",
    "    for i,j in kargs.items():\n",
    "        print(\"{0}=={1}\".format(i,j))\n",
    "display(a=12,b=45,c=23,d=21,e=22,f=45,g=43,h=44)"
   ]
  },
  {
   "cell_type": "code",
   "execution_count": 91,
   "id": "1b420c71-7d34-4ed3-8b6c-4d36a0229bb8",
   "metadata": {},
   "outputs": [
    {
     "name": "stdout",
     "output_type": "stream",
     "text": [
      "2\n",
      "4\n",
      "6\n",
      "8\n",
      "10\n"
     ]
    }
   ],
   "source": [
    "#Question3\n",
    "\"\"\"Iterator in Python is an object that is used to iterate over iterable objects like lists, tuples, dicts, and sets\"\"\"\n",
    "\n",
    "\"\"\"The iter() method is used for the initialization of an iterator.\n",
    "The next() method is used for iteration\"\"\"\n",
    "\n",
    "l1=[2, 4, 6, 8, 10, 12, 14,16, 18, 20]\n",
    "obj=iter(l1)\n",
    "print(next(obj))\n",
    "print(next(obj))\n",
    "print(next(obj))\n",
    "print(next(obj))\n",
    "print(next(obj))"
   ]
  },
  {
   "cell_type": "code",
   "execution_count": 92,
   "id": "57c287ad-b612-493f-a119-331c0fb09bc5",
   "metadata": {},
   "outputs": [
    {
     "name": "stdout",
     "output_type": "stream",
     "text": [
      "1\n",
      "3\n",
      "5\n",
      "7\n",
      "9\n"
     ]
    }
   ],
   "source": [
    "#Question4\n",
    "\"\"\"A generator function is defined like a normal function, but whenever it needs to generate a value, it does so with the yield keyword\"\"\"\n",
    "\n",
    "\"\"\"yield keyword is used to create a generator function.We should use yield when we want to iterate over a sequence, \n",
    "but don’t want to store the entire sequence in memory.\"\"\"\n",
    "\n",
    "def display(n):\n",
    "    a=1\n",
    "    for i in range(n):\n",
    "        yield a\n",
    "        a=a+2\n",
    "x=display(5)\n",
    "for i in range(5):\n",
    "    print(next(x))\n",
    "    "
   ]
  },
  {
   "cell_type": "code",
   "execution_count": 94,
   "id": "9aeddee4-4ece-4ea5-8b61-7f0893f9ea16",
   "metadata": {},
   "outputs": [
    {
     "name": "stdout",
     "output_type": "stream",
     "text": [
      "2\n",
      "3\n",
      "4\n",
      "5\n",
      "7\n",
      "11\n",
      "13\n",
      "17\n",
      "19\n",
      "23\n",
      "29\n",
      "31\n",
      "37\n",
      "41\n",
      "43\n",
      "47\n",
      "53\n",
      "59\n",
      "61\n",
      "67\n"
     ]
    }
   ],
   "source": [
    "#Question5\n",
    "def prime():\n",
    "    a=2\n",
    "    for i in range(2,1000):\n",
    "        count=0\n",
    "        for j in range(2,i//2):\n",
    "            if i%j==0:\n",
    "                count=count+1\n",
    "        if count==0:\n",
    "            yield i\n",
    "n=prime()\n",
    "for i in range(20):\n",
    "    print(next(n))"
   ]
  },
  {
   "cell_type": "code",
   "execution_count": 95,
   "id": "15385036-9f69-460d-a2ab-f047c2ae5904",
   "metadata": {},
   "outputs": [
    {
     "name": "stdout",
     "output_type": "stream",
     "text": [
      "0\n",
      "1\n",
      "1\n",
      "2\n",
      "3\n",
      "5\n",
      "8\n",
      "13\n",
      "21\n",
      "34\n"
     ]
    }
   ],
   "source": [
    "#Question6\n",
    "i=0\n",
    "a,b=0,1\n",
    "print(a)\n",
    "print(b)\n",
    "while i<8:\n",
    "    a,b=b,a+b\n",
    "    print(b)\n",
    "    i=i+1"
   ]
  },
  {
   "cell_type": "code",
   "execution_count": 96,
   "id": "e09c3887-7b1c-40e6-9fde-e9e7238c2ead",
   "metadata": {},
   "outputs": [
    {
     "data": {
      "text/plain": [
       "['p', 'w', 's', 'k', 'i', 'l', 'l']"
      ]
     },
     "execution_count": 96,
     "metadata": {},
     "output_type": "execute_result"
    }
   ],
   "source": [
    "#Question7\n",
    "str = 'pwskill'\n",
    "l1=[var for var in str]\n",
    "l1"
   ]
  },
  {
   "cell_type": "code",
   "execution_count": 97,
   "id": "d4920ca9-d94b-4e3c-8bdd-18dfae25e77f",
   "metadata": {},
   "outputs": [
    {
     "name": "stdin",
     "output_type": "stream",
     "text": [
      "Enter a number:  122454221\n"
     ]
    },
    {
     "name": "stdout",
     "output_type": "stream",
     "text": [
      "Given number is a pallindrome number\n"
     ]
    }
   ],
   "source": [
    "#Question8\n",
    "num=int(input(\"Enter a number: \"))\n",
    "rev=0\n",
    "temp=num\n",
    "while num>0:\n",
    "    rem=num%10\n",
    "    rev=rev*10+rem\n",
    "    num=num//10\n",
    "if rev==temp:\n",
    "    print(\"Given number is a pallindrome number\")\n",
    "else:\n",
    "    print(\"Given number is not a pallindrome number\")"
   ]
  },
  {
   "cell_type": "code",
   "execution_count": 98,
   "id": "e752ce44-ef96-4657-8f9a-6de922223eb6",
   "metadata": {},
   "outputs": [
    {
     "data": {
      "text/plain": [
       "[1,\n",
       " 3,\n",
       " 5,\n",
       " 7,\n",
       " 9,\n",
       " 11,\n",
       " 13,\n",
       " 15,\n",
       " 17,\n",
       " 19,\n",
       " 21,\n",
       " 23,\n",
       " 25,\n",
       " 27,\n",
       " 29,\n",
       " 31,\n",
       " 33,\n",
       " 35,\n",
       " 37,\n",
       " 39,\n",
       " 41,\n",
       " 43,\n",
       " 45,\n",
       " 47,\n",
       " 49,\n",
       " 51,\n",
       " 53,\n",
       " 55,\n",
       " 57,\n",
       " 59,\n",
       " 61,\n",
       " 63,\n",
       " 65,\n",
       " 67,\n",
       " 69,\n",
       " 71,\n",
       " 73,\n",
       " 75,\n",
       " 77,\n",
       " 79,\n",
       " 81,\n",
       " 83,\n",
       " 85,\n",
       " 87,\n",
       " 89,\n",
       " 91,\n",
       " 93,\n",
       " 95,\n",
       " 97,\n",
       " 99]"
      ]
     },
     "execution_count": 98,
     "metadata": {},
     "output_type": "execute_result"
    }
   ],
   "source": [
    "#Question9\n",
    "l1=[var for var in range(1,101)]\n",
    "l2=[var for var in l1 if var%2!=0]\n",
    "l2"
   ]
  },
  {
   "cell_type": "code",
   "execution_count": null,
   "id": "d0ed492f-ff4c-4f91-98af-4ea01744ce60",
   "metadata": {},
   "outputs": [],
   "source": []
  }
 ],
 "metadata": {
  "kernelspec": {
   "display_name": "Python 3 (ipykernel)",
   "language": "python",
   "name": "python3"
  },
  "language_info": {
   "codemirror_mode": {
    "name": "ipython",
    "version": 3
   },
   "file_extension": ".py",
   "mimetype": "text/x-python",
   "name": "python",
   "nbconvert_exporter": "python",
   "pygments_lexer": "ipython3",
   "version": "3.10.8"
  }
 },
 "nbformat": 4,
 "nbformat_minor": 5
}
