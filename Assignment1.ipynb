{
 "cells": [
  {
   "cell_type": "markdown",
   "id": "675ce2bb-57b1-4a24-a000-66dfd105a831",
   "metadata": {},
   "source": [
    "1: Guido_van_Rossum"
   ]
  },
  {
   "cell_type": "markdown",
   "id": "bdafc422-0cef-4aa3-b38b-c1c631730582",
   "metadata": {},
   "source": [
    "2: Python supports object oriented programming."
   ]
  },
  {
   "cell_type": "markdown",
   "id": "d696b236-f75c-4c8d-b3ab-40bdfe6742e2",
   "metadata": {},
   "source": [
    "3: Yes, python is case sensitive when dealing with identifier."
   ]
  },
  {
   "cell_type": "markdown",
   "id": "ab5738bb-5b9a-45b3-8144-d47e11fe60e5",
   "metadata": {},
   "source": [
    "4: .py"
   ]
  },
  {
   "cell_type": "markdown",
   "id": "be37f2ec-2c22-4f07-9981-a3ff27ea13f1",
   "metadata": {},
   "source": [
    "5: Python is a interpreted language."
   ]
  },
  {
   "cell_type": "markdown",
   "id": "f5f3ed10-9d89-4181-8d07-2b211e5d28ac",
   "metadata": {},
   "source": [
    "6: module,function body,class"
   ]
  },
  {
   "cell_type": "markdown",
   "id": "89bb8c33-4197-4b5c-bb37-b8097bd91ef2",
   "metadata": {},
   "source": [
    "7: #"
   ]
  },
  {
   "cell_type": "markdown",
   "id": "bed1880e-9d28-4bfa-9fdc-b16001ae70a2",
   "metadata": {},
   "source": [
    "8: sys.version"
   ]
  },
  {
   "cell_type": "markdown",
   "id": "a0ecc97c-25c7-44bb-9154-4a1cbfe237bf",
   "metadata": {},
   "source": [
    "9: lambda"
   ]
  },
  {
   "cell_type": "markdown",
   "id": "055385cf-3d3c-4769-82ac-28ba75ab01d5",
   "metadata": {},
   "source": [
    "10: pip stands for preferred installer program."
   ]
  },
  {
   "cell_type": "markdown",
   "id": "de82850d-8d88-4e75-8cf3-5b8206b952bc",
   "metadata": {},
   "source": [
    "11: print(),type(),len(),input()"
   ]
  },
  {
   "cell_type": "markdown",
   "id": "91bbaba7-a7f4-4e2b-86d6-68b306acbaac",
   "metadata": {},
   "source": [
    "12: 79 characters"
   ]
  },
  {
   "cell_type": "markdown",
   "id": "1782bcb2-75a1-4773-ad70-7fee29febfc3",
   "metadata": {},
   "source": [
    "13: 1.Python is highly extensible    \n",
    "     2.High-level language \n",
    "     3.Dynamically typed language\n",
    "     4.Object-Oriented and Procedural  Programming language\n",
    "     5.Portable and Interactive\n",
    "     6.Supports multiple labraries"
   ]
  },
  {
   "cell_type": "markdown",
   "id": "7a10aca3-168a-4376-a775-c8f1ad50ef90",
   "metadata": {},
   "source": [
    "14: Memory management in Python involves a private heap containing all Python objects and data structures. The management of this private        heap is ensured internally by the Python memory manager."
   ]
  },
  {
   "cell_type": "markdown",
   "id": "b7b1345d-2213-4593-a544-464fd56e6803",
   "metadata": {},
   "source": [
    "15: ans:\n",
    "\n",
    "     Python installation:\n",
    "     1.Download the Python Installer binaries.\n",
    "     2.Run the Executable Installer.\n",
    "     3. Add Python to environmental variables.\n",
    "     4. Verify the Python Installation.Right-clicking This PC and going to Properties.\n",
    "\n",
    "     Set path variable:\n",
    "     1.Clicking on the Advanced system settings in the menu on the left.\n",
    "     2.Clicking on the Environment Variables button o​n the bottom right.\n",
    "     3.In the System variables section, selecting the Path variable and clicking on Edit. The next screen will show all the directories that      are      currently a part of the PATH variable.\n",
    "     4.Clicking on New and entering Python’s install directory."
   ]
  },
  {
   "cell_type": "markdown",
   "id": "f07e5eae-89e2-4f35-bcbf-53ebd6baa35e",
   "metadata": {},
   "source": [
    "16: The indentation in Python is very important because python uses indentation to indicate a block of code."
   ]
  }
 ],
 "metadata": {
  "kernelspec": {
   "display_name": "Python 3 (ipykernel)",
   "language": "python",
   "name": "python3"
  },
  "language_info": {
   "codemirror_mode": {
    "name": "ipython",
    "version": 3
   },
   "file_extension": ".py",
   "mimetype": "text/x-python",
   "name": "python",
   "nbconvert_exporter": "python",
   "pygments_lexer": "ipython3",
   "version": "3.10.8"
  }
 },
 "nbformat": 4,
 "nbformat_minor": 5
}
