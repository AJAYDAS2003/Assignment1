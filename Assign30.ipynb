{
 "cells": [
  {
   "cell_type": "code",
   "execution_count": 4,
   "id": "7bb1cdbb-dda3-45e3-97a2-4027bf945487",
   "metadata": {},
   "outputs": [
    {
     "name": "stdin",
     "output_type": "stream",
     "text": [
      "Enter the percentage:  110\n"
     ]
    },
    {
     "name": "stdout",
     "output_type": "stream",
     "text": [
      "Grade: A\n"
     ]
    }
   ],
   "source": [
    "#Question1\n",
    "per=int(input(\"Enter the percentage: \"))\n",
    "if per>90:\n",
    "    print(\"Grade: A\")\n",
    "elif per>80 and per < 90:\n",
    "    print(\"Grade: B\")\n",
    "elif per>=60 and per<=80:\n",
    "    print(\"Grade: C\")\n",
    "elif per<60 :\n",
    "    print(\"Grade: D\")"
   ]
  },
  {
   "cell_type": "code",
   "execution_count": 1,
   "id": "805b10bf-17cd-4191-a374-1cace144328d",
   "metadata": {},
   "outputs": [
    {
     "name": "stdin",
     "output_type": "stream",
     "text": [
      "Enter the cost price of your bike:  120000\n"
     ]
    },
    {
     "name": "stdout",
     "output_type": "stream",
     "text": [
      "The amount of road tax have to pay for the bike is : 18000.0\n"
     ]
    }
   ],
   "source": [
    "#Question2\n",
    "cost_price=int(input(\"Enter the cost price of your bike: \"))\n",
    "if cost_price>100000:\n",
    "    tax=cost_price*0.15\n",
    "    print(\"The amount of road tax have to pay for the bike is :\",tax)\n",
    "elif cost_price>50000 and cost_price<=100000:\n",
    "    tax=cost_price*0.1\n",
    "    print(\"The amount of road tax have to pay for the bike is :\",tax)\n",
    "else:\n",
    "    tax=cost_price*0.05\n",
    "    print(\"The amount of road tax have to pay for the bike is :\",tax)\n"
   ]
  },
  {
   "cell_type": "code",
   "execution_count": 1,
   "id": "772c0d56-53f5-4af4-9536-9a9050d06087",
   "metadata": {},
   "outputs": [
    {
     "name": "stdin",
     "output_type": "stream",
     "text": [
      "Enter city:  Delhi\n"
     ]
    },
    {
     "name": "stdout",
     "output_type": "stream",
     "text": [
      "Red Fort\n"
     ]
    }
   ],
   "source": [
    "#Question3\n",
    "city=input(\"Enter city: \")\n",
    "if city=='Delhi':\n",
    "    print(\"Red Fort\")\n",
    "elif city=='Agra':\n",
    "    print(\"Taj Mahal\")\n",
    "elif city=='Jaipur':\n",
    "    print(\"Jal Mahal\")\n",
    "else:\n",
    "    print(\"Invalid Input\")"
   ]
  },
  {
   "cell_type": "code",
   "execution_count": 6,
   "id": "c2d8ecc7-9949-4e33-b861-3b5e0580507b",
   "metadata": {},
   "outputs": [
    {
     "name": "stdin",
     "output_type": "stream",
     "text": [
      "Enter a number:  34\n"
     ]
    },
    {
     "name": "stdout",
     "output_type": "stream",
     "text": [
      "2 times\n"
     ]
    }
   ],
   "source": [
    "#Question4\n",
    "num=int(input(\"Enter a number: \"))\n",
    "count=0\n",
    "while(num>=10):\n",
    "    num=num//3\n",
    "    count=count+1\n",
    "print(count,\"times\")"
   ]
  },
  {
   "cell_type": "code",
   "execution_count": 9,
   "id": "973711f7-ba0c-4e50-813f-6d8f1fdead73",
   "metadata": {},
   "outputs": [
    {
     "name": "stdin",
     "output_type": "stream",
     "text": [
      "enter a number:  345654\n"
     ]
    },
    {
     "name": "stdout",
     "output_type": "stream",
     "text": [
      "Sum of digits of given number is:  27\n"
     ]
    },
    {
     "name": "stdin",
     "output_type": "stream",
     "text": [
      "Enter a number:  4\n"
     ]
    },
    {
     "name": "stdout",
     "output_type": "stream",
     "text": [
      "4 * 1 = 4\n",
      "4 * 2 = 8\n",
      "4 * 3 = 12\n",
      "4 * 4 = 16\n",
      "4 * 5 = 20\n",
      "4 * 6 = 24\n",
      "4 * 7 = 28\n",
      "4 * 8 = 32\n",
      "4 * 9 = 36\n",
      "4 * 10 = 40\n"
     ]
    }
   ],
   "source": [
    "#Question5:\n",
    "\n",
    "'''While loop is used when we don't know how many times the loop has to be executed,like in case of sum of digits of a number'''\n",
    "a=int(input(\"enter a number: \"))\n",
    "sum=0\n",
    "while a >0:\n",
    "    rem=a%10\n",
    "    sum=sum+rem\n",
    "    a=a//10\n",
    "print(\"Sum of digits of given number is: \",sum)\n",
    "'''In this case number iteration depends on length of the number,thats why in this case we use while loop'''\n",
    "\n",
    "\n",
    "#For loop is used when we know the number of iteration,like in case of multiplication table\n",
    "a=int(input(\"Enter a number: \"))\n",
    "for i in range(1,11):\n",
    "    print(a , \"*\" ,i, \"=\" ,a*i)\n",
    "#In this case we the number of iteration is 10,thats why we use for loop in this type of problem"
   ]
  },
  {
   "cell_type": "code",
   "execution_count": 16,
   "id": "2f719b5c-cb8a-4fae-a5b1-4a54eb8c5a1f",
   "metadata": {},
   "outputs": [
    {
     "name": "stdout",
     "output_type": "stream",
     "text": [
      "* * * * * \n",
      "* * * * * \n",
      "* * * * * \n",
      "* * * * * \n",
      "* * * * * \n",
      "\n",
      "\n",
      "\n",
      "* \n",
      "* * \n",
      "* * * \n",
      "* * * * \n",
      "* * * * * \n",
      "\n",
      "\n",
      "\n",
      "* * * * * * \n",
      "* * * * * \n",
      "* * * * \n",
      "* * * \n",
      "* * \n"
     ]
    }
   ],
   "source": [
    "#Question6\n",
    "\n",
    "#pattern1\n",
    "i=0\n",
    "while i<5:\n",
    "    j=0\n",
    "    while j<5:\n",
    "        print(\"*\",end=\" \")\n",
    "        j=j+1\n",
    "    print()\n",
    "    i=i+1\n",
    "print()\n",
    "print()\n",
    "print()\n",
    "\n",
    "#pattern2\n",
    "i=0\n",
    "while i<5:\n",
    "    j=0\n",
    "    while j<=i:\n",
    "        print(\"*\",end=\" \")\n",
    "        j=j+1\n",
    "    print()\n",
    "    i=i+1\n",
    "print()\n",
    "print()\n",
    "print()\n",
    "\n",
    "#pattern3\n",
    "i=5\n",
    "while i>0:\n",
    "    j=0\n",
    "    while j<=i:\n",
    "        print(\"*\",end=\" \")\n",
    "        j=j+1\n",
    "    print()\n",
    "    i=i-1"
   ]
  },
  {
   "cell_type": "code",
   "execution_count": 10,
   "id": "b1b941ce-53e5-4961-88a9-e6e7679b1e0d",
   "metadata": {},
   "outputs": [
    {
     "name": "stdout",
     "output_type": "stream",
     "text": [
      "10\n",
      "9\n",
      "8\n",
      "7\n",
      "6\n",
      "5\n",
      "4\n",
      "3\n",
      "2\n",
      "1\n"
     ]
    }
   ],
   "source": [
    "#Question7\n",
    "\n",
    "i=10\n",
    "while i>0:\n",
    "    print(i)\n",
    "    i=i-1"
   ]
  },
  {
   "cell_type": "code",
   "execution_count": 11,
   "id": "f0cfc821-59a8-44cc-a9fd-6486d8a46fb3",
   "metadata": {},
   "outputs": [
    {
     "name": "stdout",
     "output_type": "stream",
     "text": [
      "10\n",
      "9\n",
      "8\n",
      "7\n",
      "6\n",
      "5\n",
      "4\n",
      "3\n",
      "2\n",
      "1\n"
     ]
    }
   ],
   "source": [
    "#Question8\n",
    "\n",
    "i=10\n",
    "while i>0:\n",
    "    print(i)\n",
    "    i=i-1"
   ]
  },
  {
   "cell_type": "code",
   "execution_count": null,
   "id": "2055eede-5004-417b-ac29-dcfcd5ded673",
   "metadata": {},
   "outputs": [],
   "source": []
  }
 ],
 "metadata": {
  "kernelspec": {
   "display_name": "Python 3 (ipykernel)",
   "language": "python",
   "name": "python3"
  },
  "language_info": {
   "codemirror_mode": {
    "name": "ipython",
    "version": 3
   },
   "file_extension": ".py",
   "mimetype": "text/x-python",
   "name": "python",
   "nbconvert_exporter": "python",
   "pygments_lexer": "ipython3",
   "version": "3.10.8"
  }
 },
 "nbformat": 4,
 "nbformat_minor": 5
}
