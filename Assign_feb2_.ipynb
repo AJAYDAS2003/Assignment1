{
 "cells": [
  {
   "cell_type": "code",
   "execution_count": 3,
   "id": "583d4c61-274f-4b0b-a58d-0cfee7bb67cd",
   "metadata": {},
   "outputs": [
    {
     "name": "stdin",
     "output_type": "stream",
     "text": [
      "enter a number:  12445865\n"
     ]
    },
    {
     "name": "stdout",
     "output_type": "stream",
     "text": [
      "Sum of digits of given number is:  35\n"
     ]
    },
    {
     "name": "stdin",
     "output_type": "stream",
     "text": [
      "Enter a number:  12\n"
     ]
    },
    {
     "name": "stdout",
     "output_type": "stream",
     "text": [
      "12 * 1 = 12\n",
      "12 * 2 = 24\n",
      "12 * 3 = 36\n",
      "12 * 4 = 48\n",
      "12 * 5 = 60\n",
      "12 * 6 = 72\n",
      "12 * 7 = 84\n",
      "12 * 8 = 96\n",
      "12 * 9 = 108\n",
      "12 * 10 = 120\n"
     ]
    }
   ],
   "source": [
    "#Question1:\n",
    "\n",
    "'''While loop is used when we don't know how many times the loop has to be executed,like in case of sum of the digits of a number'''\n",
    "a=int(input(\"enter a number: \"))\n",
    "sum=0\n",
    "while a >0:\n",
    "    rem=a%10\n",
    "    sum=sum+rem\n",
    "    a=a//10\n",
    "print(\"Sum of digits of given number is: \",sum)\n",
    "'''In this case number of iteration depends on length of the number,thats why in this case we use while loop'''\n",
    "\n",
    "\n",
    "#For loop is used when we know the number of iteration,like in case of multiplication table\n",
    "a=int(input(\"Enter a number: \"))\n",
    "for i in range(1,11):\n",
    "    print(a , \"*\" ,i, \"=\" ,a*i)\n",
    "#In this case we the number of iteration is 10,thats why we use for loop in this type of problem"
   ]
  },
  {
   "cell_type": "code",
   "execution_count": 4,
   "id": "f73f0de4-8361-4c75-98d1-0b2e02b3c4a1",
   "metadata": {},
   "outputs": [
    {
     "name": "stdout",
     "output_type": "stream",
     "text": [
      "Using while loop:\n",
      "sum of first 10 natural numbers is:  55\n",
      "Multiplication of first 10 natural numbers is:  3628800\n",
      "\n",
      "\n",
      "sum of first 10 natural numbers is:  55\n",
      "Multiplication of first 10 natural numbers is:  3628800\n"
     ]
    }
   ],
   "source": [
    "#Question2\n",
    "i=1\n",
    "sum=0\n",
    "mul=1\n",
    "print(\"Using while loop:\")\n",
    "while i<11 :\n",
    "    sum=sum+i\n",
    "    mul=mul*i\n",
    "    i=i+1\n",
    "print(\"sum of first 10 natural numbers is: \",sum)\n",
    "print(\"Multiplication of first 10 natural numbers is: \",mul)\n",
    "print()\n",
    "print()\n",
    "sum=0\n",
    "mul=1\n",
    "for i in range(1,11):\n",
    "    sum=sum+i\n",
    "    mul=mul*i\n",
    "print(\"sum of first 10 natural numbers is: \",sum)\n",
    "print(\"Multiplication of first 10 natural numbers is: \",mul)"
   ]
  },
  {
   "cell_type": "code",
   "execution_count": 5,
   "id": "810d54aa-6041-43f1-a5d8-34a9ff370b72",
   "metadata": {},
   "outputs": [
    {
     "name": "stdin",
     "output_type": "stream",
     "text": [
      "Enter the units of electricity consumed in a month:  310\n"
     ]
    },
    {
     "name": "stdout",
     "output_type": "stream",
     "text": [
      "The electricity bill is :  2250\n"
     ]
    }
   ],
   "source": [
    "#Question3\n",
    "units=int(input(\"Enter the units of electricity consumed in a month: \"))\n",
    "if units<=100:\n",
    "    print(\"The electricity bill is : \",units*4.5)\n",
    "elif units<=200:\n",
    "    bill=((units-100)*6)+(100*4.5)\n",
    "    print(\"The electricity bill is : \",bill)\n",
    "elif units<=300:\n",
    "    bill=((units-200)*10)+600+450\n",
    "    print(\"The electricity bill is : \",bill)\n",
    "else:\n",
    "    bill=((units-300)*20)+1000+600+450\n",
    "    print(\"The electricity bill is : \",bill)"
   ]
  },
  {
   "cell_type": "code",
   "execution_count": 9,
   "id": "b2514d37-afa4-4219-a344-372241d94124",
   "metadata": {},
   "outputs": [
    {
     "name": "stdout",
     "output_type": "stream",
     "text": [
      "[8, 64, 125, 216, 512, 1000, 1728, 2744, 3375, 4096, 5832, 8000, 10648, 13824, 15625, 17576, 21952, 27000, 32768, 39304, 42875, 46656, 54872, 64000, 74088, 85184, 91125, 97336, 110592, 125000, 140608, 157464, 166375, 175616, 195112, 216000, 238328, 262144, 274625, 287496, 314432, 343000, 373248, 405224, 421875, 438976, 474552, 512000, 551368, 592704, 614125, 636056, 681472, 729000, 778688, 830584, 857375, 884736, 941192, 1000000]\n",
      "\n",
      "\n",
      "[8, 64, 125, 216, 512, 1000, 1728, 2744, 3375, 4096, 5832, 8000, 10648, 13824, 15625, 17576, 21952, 27000, 32768, 39304, 42875, 46656, 54872, 64000, 74088, 85184, 91125, 97336, 110592, 125000, 140608, 157464, 166375, 175616, 195112, 216000, 238328, 262144, 274625, 287496, 314432, 343000, 373248, 405224, 421875, 438976, 474552, 512000, 551368, 592704, 614125, 636056, 681472, 729000, 778688, 830584, 857375, 884736, 941192, 1000000]\n",
      "\n"
     ]
    }
   ],
   "source": [
    "#Question4\n",
    "l1=[]\n",
    "ans=[]\n",
    "for i in range(1,101):\n",
    "    l1.append(i)\n",
    "for j in l1:\n",
    "    num=j**3\n",
    "    if num%4==0 or num%5==0:\n",
    "        ans.append(num)\n",
    "print(ans)\n",
    "print()\n",
    "print()\n",
    "\n",
    "i=0\n",
    "ans1=[]\n",
    "while i<100:\n",
    "    num=l1[i]**3\n",
    "    if num%4==0 or num%5==0:\n",
    "        ans1.append(num)\n",
    "    i=i+1\n",
    "print(ans1)\n",
    "print()"
   ]
  },
  {
   "cell_type": "code",
   "execution_count": 10,
   "id": "7e27e2db-0a8b-41fd-b0a0-5a4d923ac6e4",
   "metadata": {},
   "outputs": [
    {
     "name": "stdout",
     "output_type": "stream",
     "text": [
      "The number of vowels in the given string is:  12\n"
     ]
    }
   ],
   "source": [
    "#Question5\n",
    "str=\"I want to become a data scientist\"\n",
    "l1=[]\n",
    "count=0\n",
    "l1.extend(str)\n",
    "for i in l1:\n",
    "    if(i=='a' or i=='A' or i=='e' or i=='E' or i=='i' or i=='I' or i=='o'or i=='O' or i=='u' or i=='U'):\n",
    "        count=count+1\n",
    "print(\"The number of vowels in the given string is: \",count)"
   ]
  },
  {
   "cell_type": "code",
   "execution_count": null,
   "id": "2192e838-3b26-4527-86b3-6c67577eac75",
   "metadata": {},
   "outputs": [],
   "source": []
  }
 ],
 "metadata": {
  "kernelspec": {
   "display_name": "Python 3 (ipykernel)",
   "language": "python",
   "name": "python3"
  },
  "language_info": {
   "codemirror_mode": {
    "name": "ipython",
    "version": 3
   },
   "file_extension": ".py",
   "mimetype": "text/x-python",
   "name": "python",
   "nbconvert_exporter": "python",
   "pygments_lexer": "ipython3",
   "version": "3.10.8"
  }
 },
 "nbformat": 4,
 "nbformat_minor": 5
}
