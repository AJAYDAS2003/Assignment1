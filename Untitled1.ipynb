{
 "cells": [
  {
   "cell_type": "code",
   "execution_count": 1,
   "id": "8fd2dc33-fd30-4c1d-9f77-fa0c36d79115",
   "metadata": {},
   "outputs": [],
   "source": [
    "_ajay=25"
   ]
  },
  {
   "cell_type": "code",
   "execution_count": 2,
   "id": "f792f181-1287-4f00-ae35-d7b458f337cb",
   "metadata": {},
   "outputs": [
    {
     "data": {
      "text/plain": [
       "25"
      ]
     },
     "execution_count": 2,
     "metadata": {},
     "output_type": "execute_result"
    }
   ],
   "source": [
    "_ajay"
   ]
  },
  {
   "cell_type": "code",
   "execution_count": 3,
   "id": "a1eafb7b-48f8-4bee-99a4-4b5f0186b8f2",
   "metadata": {},
   "outputs": [],
   "source": [
    "str='Ajay'"
   ]
  },
  {
   "cell_type": "code",
   "execution_count": 5,
   "id": "bea76c9d-39e2-45c2-a180-e704309f60ec",
   "metadata": {},
   "outputs": [
    {
     "ename": "TypeError",
     "evalue": "'str' object does not support item assignment",
     "output_type": "error",
     "traceback": [
      "\u001b[0;31m---------------------------------------------------------------------------\u001b[0m",
      "\u001b[0;31mTypeError\u001b[0m                                 Traceback (most recent call last)",
      "Cell \u001b[0;32mIn[5], line 1\u001b[0m\n\u001b[0;32m----> 1\u001b[0m \u001b[38;5;28;43mstr\u001b[39;49m\u001b[43m[\u001b[49m\u001b[38;5;241;43m0\u001b[39;49m\u001b[43m]\u001b[49m\u001b[38;5;241m=\u001b[39m\u001b[38;5;124m'\u001b[39m\u001b[38;5;124mP\u001b[39m\u001b[38;5;124m'\u001b[39m\n",
      "\u001b[0;31mTypeError\u001b[0m: 'str' object does not support item assignment"
     ]
    }
   ],
   "source": [
    "str[0]='P'"
   ]
  },
  {
   "cell_type": "code",
   "execution_count": 7,
   "id": "11dff133-5db0-44d6-9c01-85432ab4555f",
   "metadata": {},
   "outputs": [
    {
     "data": {
      "text/plain": [
       "True"
      ]
     },
     "execution_count": 7,
     "metadata": {},
     "output_type": "execute_result"
    }
   ],
   "source": [
    "'pwskill'.upper().lower().isalnum()"
   ]
  },
  {
   "cell_type": "code",
   "execution_count": 8,
   "id": "bdcdd8e8-d2a5-43e0-9947-dba9c31b6961",
   "metadata": {},
   "outputs": [
    {
     "data": {
      "text/plain": [
       "[2, 3, 4, 4, 5, 6]"
      ]
     },
     "execution_count": 8,
     "metadata": {},
     "output_type": "execute_result"
    }
   ],
   "source": [
    "l1=[2,3,4]\n",
    "l2=[4,5,6]\n",
    "l1+l2"
   ]
  },
  {
   "cell_type": "code",
   "execution_count": 9,
   "id": "b141a777-ab2c-4282-9eef-44c3739a3b51",
   "metadata": {},
   "outputs": [],
   "source": [
    "t=(3,2,5,9,6,8,4,7,3,6,7,3,6,8)"
   ]
  },
  {
   "cell_type": "code",
   "execution_count": 10,
   "id": "4751b61e-4159-436b-b32e-8b8725e04011",
   "metadata": {},
   "outputs": [
    {
     "data": {
      "text/plain": [
       "(3, 2, 5, 9, 6, 8, 4, 7, 3, 6, 7, 3, 6, 8)"
      ]
     },
     "execution_count": 10,
     "metadata": {},
     "output_type": "execute_result"
    }
   ],
   "source": [
    "t"
   ]
  },
  {
   "cell_type": "code",
   "execution_count": 12,
   "id": "6795e307-91b8-4ba9-be1b-128dd567ab2b",
   "metadata": {},
   "outputs": [
    {
     "data": {
      "text/plain": [
       "3"
      ]
     },
     "execution_count": 12,
     "metadata": {},
     "output_type": "execute_result"
    }
   ],
   "source": [
    "t.index(9)"
   ]
  },
  {
   "cell_type": "code",
   "execution_count": 22,
   "id": "656ef870-e780-4740-bbfd-2446499fed59",
   "metadata": {},
   "outputs": [],
   "source": [
    "s1={1,2,3}\n",
    "s2={4,5,6}\n",
    "s1.update(s2)"
   ]
  },
  {
   "cell_type": "code",
   "execution_count": null,
   "id": "0721ec88-c806-4dfa-b7fa-bd6671c51ea0",
   "metadata": {},
   "outputs": [],
   "source": []
  }
 ],
 "metadata": {
  "kernelspec": {
   "display_name": "Python 3 (ipykernel)",
   "language": "python",
   "name": "python3"
  },
  "language_info": {
   "codemirror_mode": {
    "name": "ipython",
    "version": 3
   },
   "file_extension": ".py",
   "mimetype": "text/x-python",
   "name": "python",
   "nbconvert_exporter": "python",
   "pygments_lexer": "ipython3",
   "version": "3.10.8"
  }
 },
 "nbformat": 4,
 "nbformat_minor": 5
}
